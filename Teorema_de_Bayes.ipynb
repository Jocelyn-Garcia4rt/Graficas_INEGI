{
  "nbformat": 4,
  "nbformat_minor": 0,
  "metadata": {
    "colab": {
      "provenance": [],
      "authorship_tag": "ABX9TyNtzH1dB3onVHN9UDpDhkET",
      "include_colab_link": true
    },
    "kernelspec": {
      "name": "python3",
      "display_name": "Python 3"
    },
    "language_info": {
      "name": "python"
    }
  },
  "cells": [
    {
      "cell_type": "markdown",
      "metadata": {
        "id": "view-in-github",
        "colab_type": "text"
      },
      "source": [
        "<a href=\"https://colab.research.google.com/github/Jocelyn-Garcia4rt/Graficas_INEGI/blob/main/Teorema_de_Bayes.ipynb\" target=\"_parent\"><img src=\"https://colab.research.google.com/assets/colab-badge.svg\" alt=\"Open In Colab\"/></a>"
      ]
    },
    {
      "cell_type": "markdown",
      "source": [
        "En Durango, se ha observado un aumento en los casos de enfermedades\n",
        "respiratorias. Se sabe que:\n",
        "\n",
        "● El 10% de la población en Durango tiene la enfermedad respiratoria.\n",
        "\n",
        "● Si una persona tiene la enfermedad, la probabilidad de que tenga tos es del 80%.\n",
        "\n",
        "● Si una persona no tiene la enfermedad, la probabilidad de que tenga tos es del 20%.\n",
        "\n",
        "● Un paciente tiene tos, ¿cuál es la probabilidad de que efectivamente tenga la enfermedad respiratoria?\n",
        "\n",
        "En base a esta pregunta tomamos en cuenta que la forma de solucionarlo es usando el Teorema de Bayes"
      ],
      "metadata": {
        "id": "uRlvguZEKbmW"
      }
    },
    {
      "cell_type": "code",
      "execution_count": null,
      "metadata": {
        "id": "sJyJg4Tnbb3y",
        "colab": {
          "base_uri": "https://localhost:8080/"
        },
        "outputId": "12c1162c-1e64-40a9-9edf-419f19afee4d"
      },
      "outputs": [
        {
          "output_type": "stream",
          "name": "stdout",
          "text": [
            "La probabilidad de tener la enfermedad respiratoria dado que se tiene tos es: 0.3077\n",
            "La probabilidad en porcentaje es aproximadamente: 30.8%\n"
          ]
        }
      ],
      "source": [
        "# Probabilidad de tener la enfermedad respiratoria (A)\n",
        "P_A = 0.10\n",
        "\n",
        "# Probabilidad de tener tos dado que se tiene la enfermedad (B|A)\n",
        "P_B_dado_A = 0.80\n",
        "\n",
        "# Probabilidad de tener tos dado que NO se tiene la enfermedad (B|A')\n",
        "P_B_dado_A_prima = 0.20\n",
        "\n",
        "# Probabilidad de NO tener la enfermedad respiratoria (A')\n",
        "P_A_prima = 1 - P_A\n",
        "\n",
        "# Calculamos la probabilidad de tener tos (B) usando la ley de probabilidad total:\n",
        "P_B = (P_B_dado_A * P_A) + (P_B_dado_A_prima * P_A_prima)\n",
        "\n",
        "# Aplicamos el teorema de Bayes para calcular la probabilidad de tener la enfermedad dado que se tiene tos (A|B):\n",
        "P_A_dado_B = (P_B_dado_A * P_A) / P_B\n",
        "\n",
        "# Imprimimos el resultado\n",
        "print(f\"La probabilidad de tener la enfermedad respiratoria dado que se tiene tos es: {P_A_dado_B:.4f}\")\n",
        "\n",
        "# Conversión a porcentaje:\n",
        "porcentaje = P_A_dado_B * 100\n",
        "print(f\"La probabilidad en porcentaje es aproximadamente: {porcentaje:.1f}%\")"
      ]
    },
    {
      "cell_type": "markdown",
      "source": [
        "Tomando en cuenta los datos se puede representar que ante un aumento de factores, en este caso es la probabilidad de que se tenga la enfermedad por una prevalencia de esta en Durango, así como el hecho de tener tos se tenga la enfermedad. Cambiara los valores de forma significativa a la probabilidad de tener dicha enfermedad.\n",
        "\n",
        "Con estos datos se podría considerar las enfermedades de cualquier tipo, en este caso nos enfocamos en las enfermedades respiratorias en el estado, tipificándola para crear un porcentaje de probabilidad y obteniendo una representación clara de que tan común es una enfermedad en la población.\n",
        "\n",
        "Concluyendo que estos datos permitien tener una previsión del manejo de estas para evitar un foco de infección o propagación en el sector de la salud. Ya que si se llega el caso este colapsaría al no tener dicha previsión."
      ],
      "metadata": {
        "id": "IbfolnSjMa63"
      }
    }
  ]
}