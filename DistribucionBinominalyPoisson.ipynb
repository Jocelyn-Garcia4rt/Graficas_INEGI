{
  "nbformat": 4,
  "nbformat_minor": 0,
  "metadata": {
    "colab": {
      "provenance": [],
      "authorship_tag": "ABX9TyMD6EGc3fxuKM5YomeAuh0a",
      "include_colab_link": true
    },
    "kernelspec": {
      "name": "python3",
      "display_name": "Python 3"
    },
    "language_info": {
      "name": "python"
    }
  },
  "cells": [
    {
      "cell_type": "markdown",
      "metadata": {
        "id": "view-in-github",
        "colab_type": "text"
      },
      "source": [
        "<a href=\"https://colab.research.google.com/github/Jocelyn-Garcia4rt/Graficas_INEGI/blob/main/DistribucionBinominalyPoisson.ipynb\" target=\"_parent\"><img src=\"https://colab.research.google.com/assets/colab-badge.svg\" alt=\"Open In Colab\"/></a>"
      ]
    },
    {
      "cell_type": "markdown",
      "source": [
        "\"Accidentes de Transito en una Interseccion\"\n",
        "\n",
        "En un día promedio, se observa que en una intersección ocurren accidentes de\n",
        "tránsito de manera independiente en intervalos de 1 minuto. Se sabe que la probabilidad de que\n",
        "ocurra un accidente en un minuto específico es de 0.0\n",
        "Con base en lo anterior se deben simular 1000 intersecciones de 10 minutos en las que puedan\n",
        "calcular la probabilidad de que haya entre 0 y 3 accidentes en cada intervalo de 10 minutos.\n",
        "\n",
        "Parámetros:\n",
        "*   n=10 (número de minutos)\n",
        "*   p=0.05 (probabilidad de que ocurra un accidente en un minuto)\n",
        "*   k es el número de accidentes (el número de éxitos).\n",
        "\n",
        "\n",
        "\n",
        "\n",
        "\n"
      ],
      "metadata": {
        "id": "tXuG1m6cWnNX"
      }
    },
    {
      "cell_type": "code",
      "execution_count": 3,
      "metadata": {
        "id": "SyP3gB3cWiuv",
        "colab": {
          "base_uri": "https://localhost:8080/",
          "height": 559
        },
        "outputId": "c966f101-a8cd-4dfb-a499-3f9d3d850cb7"
      },
      "outputs": [
        {
          "output_type": "display_data",
          "data": {
            "text/plain": [
              "<Figure size 640x480 with 1 Axes>"
            ],
            "image/png": "[encoded data removed]"
          },
          "metadata": {}
        },
        {
          "output_type": "stream",
          "name": "stdout",
          "text": [
            "Probabilidades de 0 a 3 accidentes: [0.59873694 0.3151247  0.0746348  0.01047506]\n",
            "Valor esperado: 0.502\n",
            "Varianza: 0.483996\n",
            "Interpretación:\n",
            "El número de accidentes más probable en un intervalo de 10 minutos es: 0\n"
          ]
        }
      ],
      "source": [
        "import numpy as np\n",
        "import matplotlib.pyplot as plt\n",
        "from scipy.stats import binom\n",
        "\n",
        "# Parámetros de la distribución binomial\n",
        "n = 10  # Número de minutos\n",
        "p = 0.05  # Probabilidad de accidente en un minuto\n",
        "k = np.arange(0, 4)  # Número de accidentes (0 a 3)\n",
        "\n",
        "# Calcular la probabilidad para cada valor de k\n",
        "probabilidades = binom.pmf(k, n, p)\n",
        "\n",
        "# Simular 1000 intersecciones\n",
        "num_simulaciones = 1000\n",
        "accidentes = np.random.binomial(n, p, num_simulaciones) # Changed 'acidentes' to 'accidentes'\n",
        "\n",
        "# Calcular el valor esperado y la varianza\n",
        "valor_esperado = np.mean(accidentes)\n",
        "varianzas = np.var(accidentes)\n",
        "\n",
        "# Graficar la distribución\n",
        "plt.bar(k, probabilidades)\n",
        "plt.title('Distribución Binomial de Accidentes en una Interseccion')\n",
        "plt.xlabel('Número de Accidentes')\n",
        "plt.ylabel('Probabilidad')\n",
        "plt.show()\n",
        "\n",
        "# Imprimir resultados\n",
        "print('Probabilidades de 0 a 3 accidentes:', probabilidades)\n",
        "print('Valor esperado:', valor_esperado)\n",
        "print('Varianza:', varianzas)\n",
        "\n",
        "# Interpretar los resultados\n",
        "print('Interpretación:')\n",
        "accidente_mas_probable = k[np.argmax(probabilidades)]\n",
        "print(f'El número de accidentes más probable en un intervalo de 10 minutos es: {accidente_mas_probable}')"
      ]
    },
    {
      "cell_type": "markdown",
      "source": [
        "Considerando que en el centro de Durango, en promedio, llegan 5 vehículos por\n",
        "minuto a una intersección durante las horas pico, se deben simular la cantidad de vehículos que\n",
        "llegan durante un intervalo de 15 minutos."
      ],
      "metadata": {
        "id": "cdQGc0bEZv8L"
      }
    },
    {
      "cell_type": "code",
      "source": [
        "import numpy as np\n",
        "import matplotlib.pyplot as plt\n",
        "\n",
        "# Parámetros\n",
        "lambda_ = 5  # Tasa promedio de vehículos por minuto\n",
        "intervalo_minutos = 15\n",
        "n_simulaciones = 10  # Número de simulaciones\n",
        "\n",
        "# Simulación usando la distribución de Poisson\n",
        "vehiculos_llegados = np.random.poisson(lambda_ * intervalo_minutos, n_simulaciones)\n",
        "\n",
        "# Graficar los resultados\n",
        "plt.hist(vehiculos_llegados, bins=range(0, max(vehiculos_llegados) + 1), alpha=0.7, color='blue', edgecolor='black')\n",
        "plt.title('Simulación de llegada de vehículos en 15 minutos')\n",
        "plt.xlabel('Número de vehículos')\n",
        "plt.ylabel('Frecuencia')\n",
        "plt.xticks(range(0, max(vehiculos_llegados) + 1))\n",
        "plt.grid(True)\n",
        "plt.show()\n",
        "\n",
        "# Calcular el valor esperado y la varianza\n",
        "valor_esperado = lambda_ * intervalo_minutos\n",
        "varianza = lambda_ * intervalo_minutos\n",
        "\n",
        "print(f\"Valor esperado: {valor_esperado}\")\n",
        "print(f\"Varianza: {varianza}\")"
      ],
      "metadata": {
        "colab": {
          "base_uri": "https://localhost:8080/",
          "height": 317
        },
        "id": "pxbgxQDEZmHW",
        "outputId": "e05cdb5e-7cf9-49f6-ce30-a1b3ae3dbde7"
      },
      "execution_count": 8,
      "outputs": [
        {
          "output_type": "stream",
          "name": "stderr",
          "text": [
            "<>:13: SyntaxWarning: 'int' object is not callable; perhaps you missed a comma?\n",
            "<>:13: SyntaxWarning: 'int' object is not callable; perhaps you missed a comma?\n",
            "<ipython-input-8-e512b9766657>:13: SyntaxWarning: 'int' object is not callable; perhaps you missed a comma?\n",
            "  plt.hist(vehiculos_llegados, bins=range(0, 200(vehiculos_llegados) + 1), alpha=0.7, color='blue', edgecolor='black')\n"
          ]
        },
        {
          "output_type": "error",
          "ename": "TypeError",
          "evalue": "'int' object is not callable",
          "traceback": [
            "\u001b[0;31m---------------------------------------------------------------------------\u001b[0m",
            "\u001b[0;31mTypeError\u001b[0m                                 Traceback (most recent call last)",
            "\u001b[0;32m<ipython-input-8-e512b9766657>\u001b[0m in \u001b[0;36m<cell line: 0>\u001b[0;34m()\u001b[0m\n\u001b[1;32m     11\u001b[0m \u001b[0;34m\u001b[0m\u001b[0m\n\u001b[1;32m     12\u001b[0m \u001b[0;31m# Graficar los resultados\u001b[0m\u001b[0;34m\u001b[0m\u001b[0;34m\u001b[0m\u001b[0m\n\u001b[0;32m---> 13\u001b[0;31m \u001b[0mplt\u001b[0m\u001b[0;34m.\u001b[0m\u001b[0mhist\u001b[0m\u001b[0;34m(\u001b[0m\u001b[0mvehiculos_llegados\u001b[0m\u001b[0;34m,\u001b[0m \u001b[0mbins\u001b[0m\u001b[0;34m=\u001b[0m\u001b[0mrange\u001b[0m\u001b[0;34m(\u001b[0m\u001b[0;36m0\u001b[0m\u001b[0;34m,\u001b[0m \u001b[0;36m200\u001b[0m\u001b[0;34m(\u001b[0m\u001b[0mvehiculos_llegados\u001b[0m\u001b[0;34m)\u001b[0m \u001b[0;34m+\u001b[0m \u001b[0;36m1\u001b[0m\u001b[0;34m)\u001b[0m\u001b[0;34m,\u001b[0m \u001b[0malpha\u001b[0m\u001b[0;34m=\u001b[0m\u001b[0;36m0.7\u001b[0m\u001b[0;34m,\u001b[0m \u001b[0mcolor\u001b[0m\u001b[0;34m=\u001b[0m\u001b[0;34m'blue'\u001b[0m\u001b[0;34m,\u001b[0m \u001b[0medgecolor\u001b[0m\u001b[0;34m=\u001b[0m\u001b[0;34m'black'\u001b[0m\u001b[0;34m)\u001b[0m\u001b[0;34m\u001b[0m\u001b[0;34m\u001b[0m\u001b[0m\n\u001b[0m\u001b[1;32m     14\u001b[0m \u001b[0mplt\u001b[0m\u001b[0;34m.\u001b[0m\u001b[0mtitle\u001b[0m\u001b[0;34m(\u001b[0m\u001b[0;34m'Simulación de llegada de vehículos en 15 minutos'\u001b[0m\u001b[0;34m)\u001b[0m\u001b[0;34m\u001b[0m\u001b[0;34m\u001b[0m\u001b[0m\n\u001b[1;32m     15\u001b[0m \u001b[0mplt\u001b[0m\u001b[0;34m.\u001b[0m\u001b[0mxlabel\u001b[0m\u001b[0;34m(\u001b[0m\u001b[0;34m'Número de vehículos'\u001b[0m\u001b[0;34m)\u001b[0m\u001b[0;34m\u001b[0m\u001b[0;34m\u001b[0m\u001b[0m\n",
            "\u001b[0;31mTypeError\u001b[0m: 'int' object is not callable"
          ]
        }
      ]
    }
  ]
}