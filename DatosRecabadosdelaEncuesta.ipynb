{
  "nbformat": 4,
  "nbformat_minor": 0,
  "metadata": {
    "colab": {
      "provenance": [],
      "authorship_tag": "ABX9TyPV6M0tCBxi29d5bglpAH0T",
      "include_colab_link": true
    },
    "kernelspec": {
      "name": "python3",
      "display_name": "Python 3"
    },
    "language_info": {
      "name": "python"
    }
  },
  "cells": [
    {
      "cell_type": "markdown",
      "metadata": {
        "id": "view-in-github",
        "colab_type": "text"
      },
      "source": [
        "<a href=\"https://colab.research.google.com/github/Jocelyn-Garcia4rt/Graficas_INEGI/blob/main/DatosRecabadosdelaEncuesta.ipynb\" target=\"_parent\"><img src=\"https://colab.research.google.com/assets/colab-badge.svg\" alt=\"Open In Colab\"/></a>"
      ]
    },
    {
      "cell_type": "code",
      "execution_count": null,
      "metadata": {
        "id": "v9W-IT9xuBcG"
      },
      "outputs": [],
      "source": [
        "import numpy as np\n",
        "import scipy.stats as stats\n",
        "import matplotlib.pyplot as plt\n",
        "\n",
        "# Parámetros del problema\n",
        "frecuencia_respuestas = [\n",
        "    4, 4, 4, 2, 4, 5, 4, 2, 4, 4,\n",
        "    5, 4, 4, 1, 4, 5, 3, 4, 4, 4,\n",
        "    5, 4, 3, 4, 4, 5, 4, 4, 2, 4\n",
        "] # Respuestas a la pregunta sobre la frecuencia de consumo\n",
        "\n",
        "n = len(frecuencia_respuestas) # tamaño de la muestra\n",
        "mu = np.mean(frecuencia_respuestas) # media de las respuestas\n",
        "sigma_0 = np.var(frecuencia_respuestas, ddof=1) # varianza hipotética\n",
        "\n",
        "# Calculamos la varianza muestral\n",
        "s_squared = np.var(frecuencia_respuestas, ddof=1)\n",
        "\n",
        "# Estadística chi-cuadrada\n",
        "chi_squared = (n - 1) * s_squared / sigma_0\n",
        "\n",
        "# Grados de libertad\n",
        "df = n - 1\n",
        "\n",
        "# P-valor de la prueba\n",
        "p_value = 2 * min(stats.chi2.cdf(chi_squared, df), 1 - stats.chi2.cdf(chi_squared, df))\n",
        "\n",
        "# Graficamos la distribución chi-cuadrada y la estadística calculada\n",
        "x = np.linspace(0, 2 * chi_squared, 1000)\n",
        "y = stats.chi2.pdf(x, df)\n",
        "\n",
        "plt.plot(x, y, label=f\"Distribución Chi-cuadrada (df={df})\")\n",
        "plt.axvline(chi_squared, color='red', linestyle='--', label=f'Estadística Calculada: {chi_squared:.2f}')\n",
        "plt.title('Distribución Chi-cuadrada y Estadística de Prueba')\n",
        "plt.xlabel('Valor de chi-cuadrada')\n",
        "plt.ylabel('Densidad de Probabilidad')\n",
        "plt.legend()\n",
        "plt.show()\n",
        "\n",
        "# Resultados\n",
        "print(f\"Varianza muestral: {s_squared:.2f}\")\n",
        "print(f\"Estadística chi-cuadrada: {chi_squared:.2f}\")\n",
        "print(f\"P-valor: {p_value:.4f}\")\n",
        "\n",
        "# Interpretación del resultado\n",
        "if p_value < 0.05:\n",
        "    print(\"Rechazamos la hipótesis nula. La varianza no es igual a la varianza hipotética.\")\n",
        "else:\n",
        "    print(\"No rechazamos la hipótesis nula. La varianza es igual a la varianza hipotética.\")"
      ]
    }
  ]
}